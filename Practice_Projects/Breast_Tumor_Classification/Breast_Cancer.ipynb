{
  "nbformat": 4,
  "nbformat_minor": 0,
  "metadata": {
    "colab": {
      "provenance": []
    },
    "kernelspec": {
      "name": "ir",
      "display_name": "R"
    },
    "language_info": {
      "name": "R"
    },
    "gpuClass": "standard"
  },
  "cells": [
    {
      "cell_type": "code",
      "execution_count": 87,
      "metadata": {
        "id": "X60YBk964LNT"
      },
      "outputs": [],
      "source": [
        "training_data = read.csv(\"/content/data.csv\")"
      ]
    },
    {
      "cell_type": "code",
      "source": [
        "training_data$diagnosis = as.factor(training_data$diagnosis)"
      ],
      "metadata": {
        "id": "B70uOa7r5xCT"
      },
      "execution_count": 88,
      "outputs": []
    },
    {
      "cell_type": "code",
      "source": [
        "summary(training_data)"
      ],
      "metadata": {
        "id": "KQDFKjom5ynn"
      },
      "execution_count": null,
      "outputs": []
    },
    {
      "cell_type": "code",
      "source": [
        "class(training_data)"
      ],
      "metadata": {
        "colab": {
          "base_uri": "https://localhost:8080/",
          "height": 34
        },
        "id": "LBwM7UVF7Gsv",
        "outputId": "3068586c-74fa-404d-9a70-7e699f51b4b8"
      },
      "execution_count": 90,
      "outputs": [
        {
          "output_type": "display_data",
          "data": {
            "text/html": [
              "'data.frame'"
            ],
            "text/markdown": "'data.frame'",
            "text/latex": "'data.frame'",
            "text/plain": [
              "[1] \"data.frame\""
            ]
          },
          "metadata": {}
        }
      ]
    },
    {
      "cell_type": "code",
      "source": [
        "training_data = training_data[-c(1)]"
      ],
      "metadata": {
        "id": "RtqdW59G7VVo"
      },
      "execution_count": 91,
      "outputs": []
    },
    {
      "cell_type": "code",
      "source": [
        "dim(training_data)"
      ],
      "metadata": {
        "colab": {
          "base_uri": "https://localhost:8080/",
          "height": 34
        },
        "id": "W4jOr_ql7_1N",
        "outputId": "dfa77bca-4990-4797-8c64-0988dd8583e2"
      },
      "execution_count": 92,
      "outputs": [
        {
          "output_type": "display_data",
          "data": {
            "text/html": [
              "<style>\n",
              ".list-inline {list-style: none; margin:0; padding: 0}\n",
              ".list-inline>li {display: inline-block}\n",
              ".list-inline>li:not(:last-child)::after {content: \"\\00b7\"; padding: 0 .5ex}\n",
              "</style>\n",
              "<ol class=list-inline><li>569</li><li>31</li></ol>\n"
            ],
            "text/markdown": "1. 569\n2. 31\n\n\n",
            "text/latex": "\\begin{enumerate*}\n\\item 569\n\\item 31\n\\end{enumerate*}\n",
            "text/plain": [
              "[1] 569  31"
            ]
          },
          "metadata": {}
        }
      ]
    },
    {
      "cell_type": "code",
      "source": [
        "m_data = training_data[training_data$diagnosis=='M',]\n",
        "b_data = training_data[training_data$diagnosis=='B',]"
      ],
      "metadata": {
        "id": "wawUxXF58E7u"
      },
      "execution_count": 93,
      "outputs": []
    },
    {
      "cell_type": "code",
      "source": [
        "a = dim(m_data)"
      ],
      "metadata": {
        "id": "Tr2dUaio8PDh"
      },
      "execution_count": 94,
      "outputs": []
    },
    {
      "cell_type": "code",
      "source": [
        "a"
      ],
      "metadata": {
        "colab": {
          "base_uri": "https://localhost:8080/",
          "height": 34
        },
        "id": "ZF9SOIS5PVLm",
        "outputId": "944f9ea8-a116-453f-ed8e-70ed440c4fb5"
      },
      "execution_count": 95,
      "outputs": [
        {
          "output_type": "display_data",
          "data": {
            "text/html": [
              "<style>\n",
              ".list-inline {list-style: none; margin:0; padding: 0}\n",
              ".list-inline>li {display: inline-block}\n",
              ".list-inline>li:not(:last-child)::after {content: \"\\00b7\"; padding: 0 .5ex}\n",
              "</style>\n",
              "<ol class=list-inline><li>212</li><li>31</li></ol>\n"
            ],
            "text/markdown": "1. 212\n2. 31\n\n\n",
            "text/latex": "\\begin{enumerate*}\n\\item 212\n\\item 31\n\\end{enumerate*}\n",
            "text/plain": [
              "[1] 212  31"
            ]
          },
          "metadata": {}
        }
      ]
    },
    {
      "cell_type": "code",
      "source": [
        "training_data_fraction = 0.7\n",
        "cv_data_fraction = 0.2\n",
        "testing_data_fraction = 0.1"
      ],
      "metadata": {
        "id": "rENa4yrm8fS-"
      },
      "execution_count": 96,
      "outputs": []
    },
    {
      "cell_type": "code",
      "source": [
        "training_data_len = round(training_data_fraction  * nrow(training_data))\n",
        "cv_data_len = round(cv_data_fraction * nrow(training_data))\n",
        "testing_data_len = round(testing_data_fraction * nrow(training_data))"
      ],
      "metadata": {
        "id": "JpXGWJInO7qt"
      },
      "execution_count": 97,
      "outputs": []
    },
    {
      "cell_type": "code",
      "source": [
        "testing_data_len+cv_data_len+training_data_len "
      ],
      "metadata": {
        "colab": {
          "base_uri": "https://localhost:8080/",
          "height": 34
        },
        "id": "vlyc4i7cPG1d",
        "outputId": "53d99ac4-a582-4ad8-ff7c-c24b7ba37c4d"
      },
      "execution_count": 98,
      "outputs": [
        {
          "output_type": "display_data",
          "data": {
            "text/html": [
              "569"
            ],
            "text/markdown": "569",
            "text/latex": "569",
            "text/plain": [
              "[1] 569"
            ]
          },
          "metadata": {}
        }
      ]
    },
    {
      "cell_type": "code",
      "source": [
        "nrow(training_data)"
      ],
      "metadata": {
        "colab": {
          "base_uri": "https://localhost:8080/",
          "height": 34
        },
        "id": "5925EZ30Pej4",
        "outputId": "98878715-9ce7-41ad-b61d-17db703abf1d"
      },
      "execution_count": 99,
      "outputs": [
        {
          "output_type": "display_data",
          "data": {
            "text/html": [
              "569"
            ],
            "text/markdown": "569",
            "text/latex": "569",
            "text/plain": [
              "[1] 569"
            ]
          },
          "metadata": {}
        }
      ]
    },
    {
      "cell_type": "code",
      "source": [
        "a = training_data[training_data$diagnosis=='B',]\n",
        "neg_training_data = a[0:round(training_data_len/2),]\n",
        "dim(neg_training_data)"
      ],
      "metadata": {
        "colab": {
          "base_uri": "https://localhost:8080/",
          "height": 34
        },
        "id": "dXsx67eAQwgI",
        "outputId": "f71b3de6-583f-491a-dbfc-647c0af9a1a6"
      },
      "execution_count": 100,
      "outputs": [
        {
          "output_type": "display_data",
          "data": {
            "text/html": [
              "<style>\n",
              ".list-inline {list-style: none; margin:0; padding: 0}\n",
              ".list-inline>li {display: inline-block}\n",
              ".list-inline>li:not(:last-child)::after {content: \"\\00b7\"; padding: 0 .5ex}\n",
              "</style>\n",
              "<ol class=list-inline><li>199</li><li>31</li></ol>\n"
            ],
            "text/markdown": "1. 199\n2. 31\n\n\n",
            "text/latex": "\\begin{enumerate*}\n\\item 199\n\\item 31\n\\end{enumerate*}\n",
            "text/plain": [
              "[1] 199  31"
            ]
          },
          "metadata": {}
        }
      ]
    },
    {
      "cell_type": "code",
      "source": [
        "a = training_data[training_data$diagnosis=='M',]\n",
        "pos_training_data = a[0:round(training_data_len/2),]\n",
        "dim(pos_training_data)"
      ],
      "metadata": {
        "colab": {
          "base_uri": "https://localhost:8080/",
          "height": 34
        },
        "id": "p10BoRWjSFXd",
        "outputId": "6f5d511f-2f20-40ea-ad8a-e65823121bb9"
      },
      "execution_count": 101,
      "outputs": [
        {
          "output_type": "display_data",
          "data": {
            "text/html": [
              "<style>\n",
              ".list-inline {list-style: none; margin:0; padding: 0}\n",
              ".list-inline>li {display: inline-block}\n",
              ".list-inline>li:not(:last-child)::after {content: \"\\00b7\"; padding: 0 .5ex}\n",
              "</style>\n",
              "<ol class=list-inline><li>199</li><li>31</li></ol>\n"
            ],
            "text/markdown": "1. 199\n2. 31\n\n\n",
            "text/latex": "\\begin{enumerate*}\n\\item 199\n\\item 31\n\\end{enumerate*}\n",
            "text/plain": [
              "[1] 199  31"
            ]
          },
          "metadata": {}
        }
      ]
    },
    {
      "cell_type": "code",
      "source": [
        "train_data = rbind.data.frame(neg_training_data,pos_training_data)"
      ],
      "metadata": {
        "id": "-k_brwsQXM0r"
      },
      "execution_count": 102,
      "outputs": []
    },
    {
      "cell_type": "code",
      "source": [
        "train_data"
      ],
      "metadata": {
        "id": "NfLOWH3DYXsJ"
      },
      "execution_count": null,
      "outputs": []
    },
    {
      "cell_type": "code",
      "source": [
        "a = training_data[training_data$diagnosis=='B',]\n",
        "neg_remaining_data = a[round((training_data_len/2)+1):nrow(a),]\n",
        "dim(neg_remaining_data)"
      ],
      "metadata": {
        "colab": {
          "base_uri": "https://localhost:8080/",
          "height": 34
        },
        "id": "kzQqUY1mYeRw",
        "outputId": "c23dff1c-6766-46ac-f1d5-0673c1ed4023"
      },
      "execution_count": 104,
      "outputs": [
        {
          "output_type": "display_data",
          "data": {
            "text/html": [
              "<style>\n",
              ".list-inline {list-style: none; margin:0; padding: 0}\n",
              ".list-inline>li {display: inline-block}\n",
              ".list-inline>li:not(:last-child)::after {content: \"\\00b7\"; padding: 0 .5ex}\n",
              "</style>\n",
              "<ol class=list-inline><li>158</li><li>31</li></ol>\n"
            ],
            "text/markdown": "1. 158\n2. 31\n\n\n",
            "text/latex": "\\begin{enumerate*}\n\\item 158\n\\item 31\n\\end{enumerate*}\n",
            "text/plain": [
              "[1] 158  31"
            ]
          },
          "metadata": {}
        }
      ]
    },
    {
      "cell_type": "code",
      "source": [
        "nrow(a)"
      ],
      "metadata": {
        "colab": {
          "base_uri": "https://localhost:8080/",
          "height": 34
        },
        "id": "Oa3UiV9VkBhc",
        "outputId": "6f1936ed-d338-465e-baa3-2c9300abfac6"
      },
      "execution_count": 105,
      "outputs": [
        {
          "output_type": "display_data",
          "data": {
            "text/html": [
              "357"
            ],
            "text/markdown": "357",
            "text/latex": "357",
            "text/plain": [
              "[1] 357"
            ]
          },
          "metadata": {}
        }
      ]
    },
    {
      "cell_type": "code",
      "source": [
        "a = training_data[training_data$diagnosis=='M',]\n",
        "pos_remaining_data = a[round((training_data_len/2)+1):nrow(a),]\n",
        "dim(pos_remaining_data)"
      ],
      "metadata": {
        "colab": {
          "base_uri": "https://localhost:8080/",
          "height": 34
        },
        "id": "25g5Ia8NfMsF",
        "outputId": "0fb2aad1-bbe6-4302-a31b-b08eeda570c8"
      },
      "execution_count": 106,
      "outputs": [
        {
          "output_type": "display_data",
          "data": {
            "text/html": [
              "<style>\n",
              ".list-inline {list-style: none; margin:0; padding: 0}\n",
              ".list-inline>li {display: inline-block}\n",
              ".list-inline>li:not(:last-child)::after {content: \"\\00b7\"; padding: 0 .5ex}\n",
              "</style>\n",
              "<ol class=list-inline><li>13</li><li>31</li></ol>\n"
            ],
            "text/markdown": "1. 13\n2. 31\n\n\n",
            "text/latex": "\\begin{enumerate*}\n\\item 13\n\\item 31\n\\end{enumerate*}\n",
            "text/plain": [
              "[1] 13 31"
            ]
          },
          "metadata": {}
        }
      ]
    },
    {
      "cell_type": "code",
      "source": [
        "remaining_data = rbind.data.frame(neg_remaining_data,pos_remaining_data)"
      ],
      "metadata": {
        "id": "NEPnlj_PiJMt"
      },
      "execution_count": 107,
      "outputs": []
    },
    {
      "cell_type": "code",
      "source": [
        "dim(remaining_data)"
      ],
      "metadata": {
        "colab": {
          "base_uri": "https://localhost:8080/",
          "height": 34
        },
        "id": "GKloyCSpiV2o",
        "outputId": "bbea5d1b-e113-4445-c1f7-d24c1f3381c6"
      },
      "execution_count": 108,
      "outputs": [
        {
          "output_type": "display_data",
          "data": {
            "text/html": [
              "<style>\n",
              ".list-inline {list-style: none; margin:0; padding: 0}\n",
              ".list-inline>li {display: inline-block}\n",
              ".list-inline>li:not(:last-child)::after {content: \"\\00b7\"; padding: 0 .5ex}\n",
              "</style>\n",
              "<ol class=list-inline><li>171</li><li>31</li></ol>\n"
            ],
            "text/markdown": "1. 171\n2. 31\n\n\n",
            "text/latex": "\\begin{enumerate*}\n\\item 171\n\\item 31\n\\end{enumerate*}\n",
            "text/plain": [
              "[1] 171  31"
            ]
          },
          "metadata": {}
        }
      ]
    },
    {
      "cell_type": "code",
      "source": [
        " train_data = train_data[sample(1:nrow(train_data)), ]\n",
        " remaining_data = remaining_data[sample(1:nrow(remaining_data)),]"
      ],
      "metadata": {
        "id": "wZsm1g10iecy"
      },
      "execution_count": 109,
      "outputs": []
    },
    {
      "cell_type": "code",
      "source": [
        "train_data"
      ],
      "metadata": {
        "id": "C0NEkmfqjmrE"
      },
      "execution_count": null,
      "outputs": []
    },
    {
      "cell_type": "code",
      "source": [
        "cv_data = remaining_data[0:cv_data_len,]\n",
        "testing_data = remaining_data[cv_data_len:nrow(remaining_data),]"
      ],
      "metadata": {
        "id": "kER0uCzYjsN4"
      },
      "execution_count": 111,
      "outputs": []
    },
    {
      "cell_type": "code",
      "source": [
        "dim(train_data)"
      ],
      "metadata": {
        "colab": {
          "base_uri": "https://localhost:8080/",
          "height": 34
        },
        "id": "-5-jRhY7kMSl",
        "outputId": "c2a65936-159e-4e48-a0d5-8a6be16df05c"
      },
      "execution_count": 112,
      "outputs": [
        {
          "output_type": "display_data",
          "data": {
            "text/html": [
              "<style>\n",
              ".list-inline {list-style: none; margin:0; padding: 0}\n",
              ".list-inline>li {display: inline-block}\n",
              ".list-inline>li:not(:last-child)::after {content: \"\\00b7\"; padding: 0 .5ex}\n",
              "</style>\n",
              "<ol class=list-inline><li>398</li><li>31</li></ol>\n"
            ],
            "text/markdown": "1. 398\n2. 31\n\n\n",
            "text/latex": "\\begin{enumerate*}\n\\item 398\n\\item 31\n\\end{enumerate*}\n",
            "text/plain": [
              "[1] 398  31"
            ]
          },
          "metadata": {}
        }
      ]
    },
    {
      "cell_type": "code",
      "source": [
        "dim(cv_data)"
      ],
      "metadata": {
        "colab": {
          "base_uri": "https://localhost:8080/",
          "height": 34
        },
        "id": "AMNaovIBkVKJ",
        "outputId": "56774ee9-3b89-4552-f6f8-4bcd99092d97"
      },
      "execution_count": 113,
      "outputs": [
        {
          "output_type": "display_data",
          "data": {
            "text/html": [
              "<style>\n",
              ".list-inline {list-style: none; margin:0; padding: 0}\n",
              ".list-inline>li {display: inline-block}\n",
              ".list-inline>li:not(:last-child)::after {content: \"\\00b7\"; padding: 0 .5ex}\n",
              "</style>\n",
              "<ol class=list-inline><li>114</li><li>31</li></ol>\n"
            ],
            "text/markdown": "1. 114\n2. 31\n\n\n",
            "text/latex": "\\begin{enumerate*}\n\\item 114\n\\item 31\n\\end{enumerate*}\n",
            "text/plain": [
              "[1] 114  31"
            ]
          },
          "metadata": {}
        }
      ]
    },
    {
      "cell_type": "code",
      "source": [
        "dim(testing_data)"
      ],
      "metadata": {
        "colab": {
          "base_uri": "https://localhost:8080/",
          "height": 34
        },
        "id": "ewH67nrfkW64",
        "outputId": "e4c8fb3d-ac80-48c7-8a29-d60f3c3a8be9"
      },
      "execution_count": 114,
      "outputs": [
        {
          "output_type": "display_data",
          "data": {
            "text/html": [
              "<style>\n",
              ".list-inline {list-style: none; margin:0; padding: 0}\n",
              ".list-inline>li {display: inline-block}\n",
              ".list-inline>li:not(:last-child)::after {content: \"\\00b7\"; padding: 0 .5ex}\n",
              "</style>\n",
              "<ol class=list-inline><li>58</li><li>31</li></ol>\n"
            ],
            "text/markdown": "1. 58\n2. 31\n\n\n",
            "text/latex": "\\begin{enumerate*}\n\\item 58\n\\item 31\n\\end{enumerate*}\n",
            "text/plain": [
              "[1] 58 31"
            ]
          },
          "metadata": {}
        }
      ]
    },
    {
      "cell_type": "code",
      "source": [
        "install.packages(\"party\")"
      ],
      "metadata": {
        "id": "DaISxh8FkYwf"
      },
      "execution_count": null,
      "outputs": []
    },
    {
      "cell_type": "code",
      "source": [
        "library(\"party\")\n",
        "png(file = \"decision_tree.png\")\n",
        "output.tree <- ctree(\n",
        "  diagnosis ~ .,\n",
        "  data = train_data)\n",
        "plot(output.tree)"
      ],
      "metadata": {
        "id": "RIdkauL9pu8S"
      },
      "execution_count": 115,
      "outputs": []
    },
    {
      "cell_type": "code",
      "source": [
        "dev.off()"
      ],
      "metadata": {
        "colab": {
          "base_uri": "https://localhost:8080/",
          "height": 34
        },
        "id": "YSYDJ4stt67S",
        "outputId": "fa8438ea-9d9f-432e-b411-a4da04f64c1d"
      },
      "execution_count": 116,
      "outputs": [
        {
          "output_type": "display_data",
          "data": {
            "text/html": [
              "<strong>png:</strong> 3"
            ],
            "text/markdown": "**png:** 3",
            "text/latex": "\\textbf{png:} 3",
            "text/plain": [
              "png \n",
              "  3 "
            ]
          },
          "metadata": {}
        }
      ]
    },
    {
      "cell_type": "code",
      "source": [
        "decision_tree_ans_pred<-predict(output.tree, cv_data)\n",
        "\n",
        "m_at <- table(cv_data$diagnosis, decision_tree_ans_pred)\n",
        "m_at"
      ],
      "metadata": {
        "colab": {
          "base_uri": "https://localhost:8080/",
          "height": 91
        },
        "id": "aZYZ4cWQuCUT",
        "outputId": "0c9a88b4-bd63-4333-9803-0d9b3f28a3e4"
      },
      "execution_count": 202,
      "outputs": [
        {
          "output_type": "display_data",
          "data": {
            "text/plain": [
              "   decision_tree_ans_pred\n",
              "     B  M\n",
              "  B 97 10\n",
              "  M  0  7"
            ]
          },
          "metadata": {}
        }
      ]
    },
    {
      "cell_type": "code",
      "source": [
        "save(output.tree, file = '/content/decision_tree_model.rda')"
      ],
      "metadata": {
        "id": "6TY6FddgabGM"
      },
      "execution_count": 118,
      "outputs": []
    },
    {
      "cell_type": "code",
      "source": [
        "dt_test_pred = predict(output.tree, testing_data)"
      ],
      "metadata": {
        "id": "DZrSkYfG_9ZE"
      },
      "execution_count": 212,
      "outputs": []
    },
    {
      "cell_type": "code",
      "source": [
        "install.packages(\"e1071\")"
      ],
      "metadata": {
        "colab": {
          "base_uri": "https://localhost:8080/"
        },
        "id": "ZMfLXlEY7WLF",
        "outputId": "71e01052-f69f-4f15-ecc0-4c86dd246b77"
      },
      "execution_count": 174,
      "outputs": [
        {
          "output_type": "stream",
          "name": "stderr",
          "text": [
            "Installing package into ‘/usr/local/lib/R/site-library’\n",
            "(as ‘lib’ is unspecified)\n",
            "\n",
            "also installing the dependency ‘proxy’\n",
            "\n",
            "\n"
          ]
        }
      ]
    },
    {
      "cell_type": "code",
      "source": [
        "library(\"e1071\")"
      ],
      "metadata": {
        "id": "VwewHCQf7_Ti"
      },
      "execution_count": 175,
      "outputs": []
    },
    {
      "cell_type": "code",
      "source": [
        "svmfit = svm(train_data$diagnosis ~ ., data = train_data, kernel = \"linear\", cost = 10, scale = FALSE)"
      ],
      "metadata": {
        "id": "aQhudJCK8CK1"
      },
      "execution_count": 192,
      "outputs": []
    },
    {
      "cell_type": "code",
      "source": [
        "summary(svmfit)"
      ],
      "metadata": {
        "colab": {
          "base_uri": "https://localhost:8080/",
          "height": 423
        },
        "id": "Ll5QAJIO8wq9",
        "outputId": "10c7e19b-8e78-41bc-b030-868c8a5ab6b9"
      },
      "execution_count": 193,
      "outputs": [
        {
          "output_type": "display_data",
          "data": {
            "text/plain": [
              "\n",
              "Call:\n",
              "svm(formula = train_data$diagnosis ~ ., data = train_data, kernel = \"linear\", \n",
              "    cost = 10, scale = FALSE)\n",
              "\n",
              "\n",
              "Parameters:\n",
              "   SVM-Type:  C-classification \n",
              " SVM-Kernel:  linear \n",
              "       cost:  10 \n",
              "\n",
              "Number of Support Vectors:  32\n",
              "\n",
              " ( 16 16 )\n",
              "\n",
              "\n",
              "Number of Classes:  2 \n",
              "\n",
              "Levels: \n",
              " B M\n",
              "\n",
              "\n"
            ]
          },
          "metadata": {}
        }
      ]
    },
    {
      "cell_type": "code",
      "source": [
        "svm_ans_pred = predict(svmfit, cv_data)"
      ],
      "metadata": {
        "id": "P_5YWF-v8kTB"
      },
      "execution_count": 194,
      "outputs": []
    },
    {
      "cell_type": "code",
      "source": [
        "svm_ans_pred"
      ],
      "metadata": {
        "colab": {
          "base_uri": "https://localhost:8080/",
          "height": 190
        },
        "id": "jdYEVqQq9_4h",
        "outputId": "ddd075cd-122e-40a9-e266-f7c776527b40"
      },
      "execution_count": 195,
      "outputs": [
        {
          "output_type": "display_data",
          "data": {
            "text/html": [
              "<style>\n",
              ".dl-inline {width: auto; margin:0; padding: 0}\n",
              ".dl-inline>dt, .dl-inline>dd {float: none; width: auto; display: inline-block}\n",
              ".dl-inline>dt::after {content: \":\\0020\"; padding-right: .5ex}\n",
              ".dl-inline>dt:not(:first-of-type) {padding-left: .5ex}\n",
              "</style><dl class=dl-inline><dt>524</dt><dd>B</dd><dt>437</dt><dd>B</dd><dt>481</dt><dd>B</dd><dt>506</dt><dd>B</dd><dt>397</dt><dd>B</dd><dt>532</dt><dd>B</dd><dt>395</dt><dd>B</dd><dt>553</dt><dd>B</dd><dt>411</dt><dd>B</dd><dt>362</dt><dd>B</dd><dt>555</dt><dd>B</dd><dt>519</dt><dd>B</dd><dt>495</dt><dd>B</dd><dt>435</dt><dd>B</dd><dt>372</dt><dd>B</dd><dt>426</dt><dd>B</dd><dt>509</dt><dd>B</dd><dt>496</dt><dd>B</dd><dt>497</dt><dd>B</dd><dt>522</dt><dd>M</dd><dt>487</dt><dd>B</dd><dt>376</dt><dd>B</dd><dt>449</dt><dd>M</dd><dt>427</dt><dd>B</dd><dt>556</dt><dd>B</dd><dt>444</dt><dd>B</dd><dt>559</dt><dd>B</dd><dt>552</dt><dd>B</dd><dt>474</dt><dd>B</dd><dt>473</dt><dd>B</dd><dt>365</dt><dd>B</dd><dt>516</dt><dd>B</dd><dt>498</dt><dd>B</dd><dt>425</dt><dd>B</dd><dt>412</dt><dd>B</dd><dt>534</dt><dd>M</dd><dt>468</dt><dd>B</dd><dt>467</dt><dd>M</dd><dt>399</dt><dd>B</dd><dt>383</dt><dd>B</dd><dt>459</dt><dd>B</dd><dt>460</dt><dd>B</dd><dt>521</dt><dd>B</dd><dt>361</dt><dd>B</dd><dt>400</dt><dd>B</dd><dt>548</dt><dd>B</dd><dt>557</dt><dd>B</dd><dt>539</dt><dd>B</dd><dt>440</dt><dd>B</dd><dt>438</dt><dd>B</dd><dt>560</dt><dd>B</dd><dt>379</dt><dd>B</dd><dt>458</dt><dd>B</dd><dt>540</dt><dd>B</dd><dt>561</dt><dd>B</dd><dt>478</dt><dd>B</dd><dt>465</dt><dd>B</dd><dt>423</dt><dd>B</dd><dt>432</dt><dd>B</dd><dt>526</dt><dd>B</dd><dt>421</dt><dd>B</dd><dt>430</dt><dd>B</dd><dt>568</dt><dd>M</dd><dt>441</dt><dd>B</dd><dt>463</dt><dd>B</dd><dt>406</dt><dd>B</dd><dt>448</dt><dd>B</dd><dt>494</dt><dd>B</dd><dt>564</dt><dd>M</dd><dt>477</dt><dd>M</dd><dt>396</dt><dd>B</dd><dt>424</dt><dd>B</dd><dt>551</dt><dd>B</dd><dt>368</dt><dd>B</dd><dt>454</dt><dd>B</dd><dt>407</dt><dd>B</dd><dt>429</dt><dd>B</dd><dt>544</dt><dd>B</dd><dt>563</dt><dd>M</dd><dt>391</dt><dd>B</dd><dt>388</dt><dd>B</dd><dt>529</dt><dd>B</dd><dt>514</dt><dd>B</dd><dt>486</dt><dd>B</dd><dt>538</dt><dd>B</dd><dt>456</dt><dd>M</dd><dt>470</dt><dd>B</dd><dt>404</dt><dd>B</dd><dt>377</dt><dd>B</dd><dt>537</dt><dd>M</dd><dt>520</dt><dd>B</dd><dt>485</dt><dd>B</dd><dt>507</dt><dd>B</dd><dt>527</dt><dd>B</dd><dt>503</dt><dd>B</dd><dt>545</dt><dd>B</dd><dt>417</dt><dd>B</dd><dt>501</dt><dd>B</dd><dt>402</dt><dd>B</dd><dt>541</dt><dd>B</dd><dt>428</dt><dd>B</dd><dt>375</dt><dd>B</dd><dt>546</dt><dd>B</dd><dt>385</dt><dd>B</dd><dt>535</dt><dd>B</dd><dt>567</dt><dd>M</dd><dt>525</dt><dd>B</dd><dt>505</dt><dd>B</dd><dt>547</dt><dd>B</dd><dt>484</dt><dd>B</dd><dt>464</dt><dd>B</dd><dt>455</dt><dd>B</dd><dt>384</dt><dd>B</dd><dt>492</dt><dd>M</dd></dl>\n",
              "\n",
              "<details>\n",
              "\t<summary style=display:list-item;cursor:pointer>\n",
              "\t\t<strong>Levels</strong>:\n",
              "\t</summary>\n",
              "\t<style>\n",
              "\t.list-inline {list-style: none; margin:0; padding: 0}\n",
              "\t.list-inline>li {display: inline-block}\n",
              "\t.list-inline>li:not(:last-child)::after {content: \"\\00b7\"; padding: 0 .5ex}\n",
              "\t</style>\n",
              "\t<ol class=list-inline><li>'B'</li><li>'M'</li></ol>\n",
              "</details>"
            ],
            "text/markdown": "524\n:   B437\n:   B481\n:   B506\n:   B397\n:   B532\n:   B395\n:   B553\n:   B411\n:   B362\n:   B555\n:   B519\n:   B495\n:   B435\n:   B372\n:   B426\n:   B509\n:   B496\n:   B497\n:   B522\n:   M487\n:   B376\n:   B449\n:   M427\n:   B556\n:   B444\n:   B559\n:   B552\n:   B474\n:   B473\n:   B365\n:   B516\n:   B498\n:   B425\n:   B412\n:   B534\n:   M468\n:   B467\n:   M399\n:   B383\n:   B459\n:   B460\n:   B521\n:   B361\n:   B400\n:   B548\n:   B557\n:   B539\n:   B440\n:   B438\n:   B560\n:   B379\n:   B458\n:   B540\n:   B561\n:   B478\n:   B465\n:   B423\n:   B432\n:   B526\n:   B421\n:   B430\n:   B568\n:   M441\n:   B463\n:   B406\n:   B448\n:   B494\n:   B564\n:   M477\n:   M396\n:   B424\n:   B551\n:   B368\n:   B454\n:   B407\n:   B429\n:   B544\n:   B563\n:   M391\n:   B388\n:   B529\n:   B514\n:   B486\n:   B538\n:   B456\n:   M470\n:   B404\n:   B377\n:   B537\n:   M520\n:   B485\n:   B507\n:   B527\n:   B503\n:   B545\n:   B417\n:   B501\n:   B402\n:   B541\n:   B428\n:   B375\n:   B546\n:   B385\n:   B535\n:   B567\n:   M525\n:   B505\n:   B547\n:   B484\n:   B464\n:   B455\n:   B384\n:   B492\n:   M\n\n\n**Levels**: 1. 'B'\n2. 'M'\n\n\n",
            "text/latex": "\\begin{description*}\n\\item[524] B\n\\item[437] B\n\\item[481] B\n\\item[506] B\n\\item[397] B\n\\item[532] B\n\\item[395] B\n\\item[553] B\n\\item[411] B\n\\item[362] B\n\\item[555] B\n\\item[519] B\n\\item[495] B\n\\item[435] B\n\\item[372] B\n\\item[426] B\n\\item[509] B\n\\item[496] B\n\\item[497] B\n\\item[522] M\n\\item[487] B\n\\item[376] B\n\\item[449] M\n\\item[427] B\n\\item[556] B\n\\item[444] B\n\\item[559] B\n\\item[552] B\n\\item[474] B\n\\item[473] B\n\\item[365] B\n\\item[516] B\n\\item[498] B\n\\item[425] B\n\\item[412] B\n\\item[534] M\n\\item[468] B\n\\item[467] M\n\\item[399] B\n\\item[383] B\n\\item[459] B\n\\item[460] B\n\\item[521] B\n\\item[361] B\n\\item[400] B\n\\item[548] B\n\\item[557] B\n\\item[539] B\n\\item[440] B\n\\item[438] B\n\\item[560] B\n\\item[379] B\n\\item[458] B\n\\item[540] B\n\\item[561] B\n\\item[478] B\n\\item[465] B\n\\item[423] B\n\\item[432] B\n\\item[526] B\n\\item[421] B\n\\item[430] B\n\\item[568] M\n\\item[441] B\n\\item[463] B\n\\item[406] B\n\\item[448] B\n\\item[494] B\n\\item[564] M\n\\item[477] M\n\\item[396] B\n\\item[424] B\n\\item[551] B\n\\item[368] B\n\\item[454] B\n\\item[407] B\n\\item[429] B\n\\item[544] B\n\\item[563] M\n\\item[391] B\n\\item[388] B\n\\item[529] B\n\\item[514] B\n\\item[486] B\n\\item[538] B\n\\item[456] M\n\\item[470] B\n\\item[404] B\n\\item[377] B\n\\item[537] M\n\\item[520] B\n\\item[485] B\n\\item[507] B\n\\item[527] B\n\\item[503] B\n\\item[545] B\n\\item[417] B\n\\item[501] B\n\\item[402] B\n\\item[541] B\n\\item[428] B\n\\item[375] B\n\\item[546] B\n\\item[385] B\n\\item[535] B\n\\item[567] M\n\\item[525] B\n\\item[505] B\n\\item[547] B\n\\item[484] B\n\\item[464] B\n\\item[455] B\n\\item[384] B\n\\item[492] M\n\\end{description*}\n\n\\emph{Levels}: \\begin{enumerate*}\n\\item 'B'\n\\item 'M'\n\\end{enumerate*}\n",
            "text/plain": [
              "524 437 481 506 397 532 395 553 411 362 555 519 495 435 372 426 509 496 497 522 \n",
              "  B   B   B   B   B   B   B   B   B   B   B   B   B   B   B   B   B   B   B   M \n",
              "487 376 449 427 556 444 559 552 474 473 365 516 498 425 412 534 468 467 399 383 \n",
              "  B   B   M   B   B   B   B   B   B   B   B   B   B   B   B   M   B   M   B   B \n",
              "459 460 521 361 400 548 557 539 440 438 560 379 458 540 561 478 465 423 432 526 \n",
              "  B   B   B   B   B   B   B   B   B   B   B   B   B   B   B   B   B   B   B   B \n",
              "421 430 568 441 463 406 448 494 564 477 396 424 551 368 454 407 429 544 563 391 \n",
              "  B   B   M   B   B   B   B   B   M   M   B   B   B   B   B   B   B   B   M   B \n",
              "388 529 514 486 538 456 470 404 377 537 520 485 507 527 503 545 417 501 402 541 \n",
              "  B   B   B   B   B   M   B   B   B   M   B   B   B   B   B   B   B   B   B   B \n",
              "428 375 546 385 535 567 525 505 547 484 464 455 384 492 \n",
              "  B   B   B   B   B   M   B   B   B   B   B   B   B   M \n",
              "Levels: B M"
            ]
          },
          "metadata": {}
        }
      ]
    },
    {
      "cell_type": "code",
      "source": [
        "svm_test_pred = predict(svmfit, testing_data)"
      ],
      "metadata": {
        "id": "vhydWDyCAHvb"
      },
      "execution_count": 213,
      "outputs": []
    },
    {
      "cell_type": "code",
      "source": [
        "save(nn, file = '/content/svm.rda')"
      ],
      "metadata": {
        "id": "7JNfOrRVC_dD"
      },
      "execution_count": 222,
      "outputs": []
    },
    {
      "cell_type": "code",
      "source": [
        "install.packages(\"neuralnet\")\n",
        "\n",
        "library(\"neuralnet\")"
      ],
      "metadata": {
        "colab": {
          "base_uri": "https://localhost:8080/"
        },
        "id": "VvMmzQ9FunOr",
        "outputId": "08e75b48-ea9e-4bac-d8b9-5d3c134accb7"
      },
      "execution_count": 119,
      "outputs": [
        {
          "output_type": "stream",
          "name": "stderr",
          "text": [
            "Installing package into ‘/usr/local/lib/R/site-library’\n",
            "(as ‘lib’ is unspecified)\n",
            "\n"
          ]
        }
      ]
    },
    {
      "cell_type": "code",
      "source": [
        "nn = neuralnet(diagnosis ~ .,data=train_data, hidden=31,act.fct = \"logistic\",linear.output = FALSE)"
      ],
      "metadata": {
        "id": "PZ7kU1ay0G4V"
      },
      "execution_count": 120,
      "outputs": []
    },
    {
      "cell_type": "code",
      "source": [
        "plot(nn)"
      ],
      "metadata": {
        "id": "r0cZqUSX0qXx"
      },
      "execution_count": 121,
      "outputs": []
    },
    {
      "cell_type": "code",
      "source": [
        "predict=compute(nn,cv_data)\n",
        "\n",
        "probab<- predict$net.result\n",
        "pre <- ifelse(probab>0.5, 1, 0)\n",
        "pre"
      ],
      "metadata": {
        "id": "oqHRpT3n0vLt"
      },
      "execution_count": null,
      "outputs": []
    },
    {
      "cell_type": "code",
      "source": [
        "nn_test_prob = (compute(nn,testing_data))$net.result\n",
        "nn_test_pred = ifelse(nn_test_prob>0.5,1,0)"
      ],
      "metadata": {
        "id": "VmQzhnQoAPFd"
      },
      "execution_count": 215,
      "outputs": []
    },
    {
      "cell_type": "code",
      "source": [
        "probab"
      ],
      "metadata": {
        "id": "AwYOoXR8eOZE"
      },
      "execution_count": null,
      "outputs": []
    },
    {
      "cell_type": "code",
      "source": [
        "post = ifelse(cv_data$diagnosis=='B', 1, 0)"
      ],
      "metadata": {
        "id": "sK9U7Tps3MtL"
      },
      "execution_count": 125,
      "outputs": []
    },
    {
      "cell_type": "code",
      "source": [
        "n = ifelse(post == 1 , 0 , 1)"
      ],
      "metadata": {
        "id": "XH5PnA2Z3uFz"
      },
      "execution_count": 126,
      "outputs": []
    },
    {
      "cell_type": "code",
      "source": [
        "post = as.data.frame(post)"
      ],
      "metadata": {
        "id": "KD0LY7Up3tDl"
      },
      "execution_count": 127,
      "outputs": []
    },
    {
      "cell_type": "code",
      "source": [
        "post = cbind(post,n)"
      ],
      "metadata": {
        "id": "bO9yCsL04HsC"
      },
      "execution_count": 128,
      "outputs": []
    },
    {
      "cell_type": "code",
      "source": [
        "post = as.matrix(post)"
      ],
      "metadata": {
        "id": "LXLtvyjj4Mz3"
      },
      "execution_count": 129,
      "outputs": []
    },
    {
      "cell_type": "code",
      "source": [
        "sum(post != pre)"
      ],
      "metadata": {
        "colab": {
          "base_uri": "https://localhost:8080/",
          "height": 34
        },
        "id": "gS9d7tF45VbS",
        "outputId": "d3576bbe-6afa-4dd6-8371-b8bceb3f4b78"
      },
      "execution_count": 130,
      "outputs": [
        {
          "output_type": "display_data",
          "data": {
            "text/html": [
              "14"
            ],
            "text/markdown": "14",
            "text/latex": "14",
            "text/plain": [
              "[1] 14"
            ]
          },
          "metadata": {}
        }
      ]
    },
    {
      "cell_type": "code",
      "source": [
        "m_at <- table(post, pre)\n",
        "m_at"
      ],
      "metadata": {
        "colab": {
          "base_uri": "https://localhost:8080/",
          "height": 91
        },
        "id": "zjz7KBZE19SK",
        "outputId": "2cffdd91-d761-471f-ec04-06226b87ba10"
      },
      "execution_count": 131,
      "outputs": [
        {
          "output_type": "display_data",
          "data": {
            "text/plain": [
              "    pre\n",
              "post   0   1\n",
              "   0 107   7\n",
              "   1   7 107"
            ]
          },
          "metadata": {}
        }
      ]
    },
    {
      "cell_type": "code",
      "source": [
        "summary(nn)"
      ],
      "metadata": {
        "colab": {
          "base_uri": "https://localhost:8080/",
          "height": 294
        },
        "id": "ilAKnSS0_vv_",
        "outputId": "aea03635-a200-43c7-f9b3-001de025d5df"
      },
      "execution_count": 132,
      "outputs": [
        {
          "output_type": "display_data",
          "data": {
            "text/plain": [
              "                    Length Class      Mode    \n",
              "call                    6  -none-     call    \n",
              "response              796  -none-     logical \n",
              "covariate           11940  -none-     numeric \n",
              "model.list              2  -none-     list    \n",
              "err.fct                 1  -none-     function\n",
              "act.fct                 1  -none-     function\n",
              "linear.output           1  -none-     logical \n",
              "data                   31  data.frame list    \n",
              "exclude                 0  -none-     NULL    \n",
              "net.result              1  -none-     list    \n",
              "weights                 1  -none-     list    \n",
              "generalized.weights     1  -none-     list    \n",
              "startweights            1  -none-     list    \n",
              "result.matrix        1028  -none-     numeric "
            ]
          },
          "metadata": {}
        }
      ]
    },
    {
      "cell_type": "code",
      "source": [
        "save(nn, file = '/content/nn.rda')"
      ],
      "metadata": {
        "id": "Aa8BrMKiA5Ur"
      },
      "execution_count": 133,
      "outputs": []
    },
    {
      "cell_type": "code",
      "source": [
        "install.packages(\"pROC\")"
      ],
      "metadata": {
        "colab": {
          "base_uri": "https://localhost:8080/"
        },
        "id": "RB-sU18rd5Qe",
        "outputId": "25a49f76-1200-4eb5-b203-c2b68916a345"
      },
      "execution_count": null,
      "outputs": [
        {
          "output_type": "stream",
          "name": "stderr",
          "text": [
            "Installing package into ‘/usr/local/lib/R/site-library’\n",
            "(as ‘lib’ is unspecified)\n",
            "\n",
            "also installing the dependencies ‘plyr’, ‘Rcpp’\n",
            "\n",
            "\n",
            "Type 'citation(\"pROC\")' for a citation.\n",
            "\n",
            "\n",
            "Attaching package: ‘pROC’\n",
            "\n",
            "\n",
            "The following objects are masked from ‘package:stats’:\n",
            "\n",
            "    cov, smooth, var\n",
            "\n",
            "\n"
          ]
        }
      ]
    },
    {
      "cell_type": "code",
      "source": [
        "library(pROC)"
      ],
      "metadata": {
        "id": "KbCtABJz0aOe"
      },
      "execution_count": 134,
      "outputs": []
    },
    {
      "cell_type": "code",
      "source": [
        "cv_ans = ifelse(cv_data$diagnosis == 'B',0,1)\n",
        "cv_ans\n",
        "\n",
        "test_ans = ifelse(testing_data$diagnosis == 'B',0,1)\n",
        "test_ans\n",
        "\n",
        "dtree_ans_pred = ifelse(decision_tree_ans_pred == 'B',0,1)\n",
        "dtree_ans_pred\n",
        "\n",
        "nn_ans_pred = ifelse(pre[,1]>pre[,2],0,1)\n",
        "nn_ans_pred\n",
        "\n",
        "svmmodel_ans_pred = ifelse(svm_ans_pred == 'B',0,1)\n",
        "svmmodel_ans_pred"
      ],
      "metadata": {
        "id": "j4cSYYbck_Bz",
        "colab": {
          "base_uri": "https://localhost:8080/",
          "height": 364
        },
        "outputId": "bbdafa29-edcf-43c4-f294-e3fb842e828e"
      },
      "execution_count": 203,
      "outputs": [
        {
          "output_type": "display_data",
          "data": {
            "text/html": [
              "<style>\n",
              ".list-inline {list-style: none; margin:0; padding: 0}\n",
              ".list-inline>li {display: inline-block}\n",
              ".list-inline>li:not(:last-child)::after {content: \"\\00b7\"; padding: 0 .5ex}\n",
              "</style>\n",
              "<ol class=list-inline><li>0</li><li>0</li><li>0</li><li>0</li><li>0</li><li>0</li><li>0</li><li>0</li><li>0</li><li>0</li><li>0</li><li>0</li><li>0</li><li>0</li><li>0</li><li>0</li><li>0</li><li>0</li><li>0</li><li>1</li><li>0</li><li>0</li><li>0</li><li>0</li><li>0</li><li>0</li><li>0</li><li>0</li><li>0</li><li>0</li><li>0</li><li>0</li><li>0</li><li>0</li><li>0</li><li>1</li><li>0</li><li>0</li><li>0</li><li>0</li><li>0</li><li>0</li><li>0</li><li>0</li><li>0</li><li>0</li><li>0</li><li>0</li><li>0</li><li>0</li><li>0</li><li>0</li><li>0</li><li>0</li><li>0</li><li>0</li><li>0</li><li>0</li><li>0</li><li>0</li><li>0</li><li>0</li><li>1</li><li>0</li><li>0</li><li>0</li><li>0</li><li>0</li><li>1</li><li>0</li><li>0</li><li>0</li><li>0</li><li>0</li><li>0</li><li>0</li><li>0</li><li>0</li><li>1</li><li>0</li><li>0</li><li>0</li><li>0</li><li>0</li><li>0</li><li>0</li><li>0</li><li>0</li><li>0</li><li>1</li><li>0</li><li>0</li><li>0</li><li>0</li><li>0</li><li>0</li><li>0</li><li>0</li><li>0</li><li>0</li><li>0</li><li>0</li><li>0</li><li>0</li><li>0</li><li>1</li><li>0</li><li>0</li><li>0</li><li>0</li><li>0</li><li>0</li><li>0</li><li>0</li></ol>\n"
            ],
            "text/markdown": "1. 0\n2. 0\n3. 0\n4. 0\n5. 0\n6. 0\n7. 0\n8. 0\n9. 0\n10. 0\n11. 0\n12. 0\n13. 0\n14. 0\n15. 0\n16. 0\n17. 0\n18. 0\n19. 0\n20. 1\n21. 0\n22. 0\n23. 0\n24. 0\n25. 0\n26. 0\n27. 0\n28. 0\n29. 0\n30. 0\n31. 0\n32. 0\n33. 0\n34. 0\n35. 0\n36. 1\n37. 0\n38. 0\n39. 0\n40. 0\n41. 0\n42. 0\n43. 0\n44. 0\n45. 0\n46. 0\n47. 0\n48. 0\n49. 0\n50. 0\n51. 0\n52. 0\n53. 0\n54. 0\n55. 0\n56. 0\n57. 0\n58. 0\n59. 0\n60. 0\n61. 0\n62. 0\n63. 1\n64. 0\n65. 0\n66. 0\n67. 0\n68. 0\n69. 1\n70. 0\n71. 0\n72. 0\n73. 0\n74. 0\n75. 0\n76. 0\n77. 0\n78. 0\n79. 1\n80. 0\n81. 0\n82. 0\n83. 0\n84. 0\n85. 0\n86. 0\n87. 0\n88. 0\n89. 0\n90. 1\n91. 0\n92. 0\n93. 0\n94. 0\n95. 0\n96. 0\n97. 0\n98. 0\n99. 0\n100. 0\n101. 0\n102. 0\n103. 0\n104. 0\n105. 0\n106. 1\n107. 0\n108. 0\n109. 0\n110. 0\n111. 0\n112. 0\n113. 0\n114. 0\n\n\n",
            "text/latex": "\\begin{enumerate*}\n\\item 0\n\\item 0\n\\item 0\n\\item 0\n\\item 0\n\\item 0\n\\item 0\n\\item 0\n\\item 0\n\\item 0\n\\item 0\n\\item 0\n\\item 0\n\\item 0\n\\item 0\n\\item 0\n\\item 0\n\\item 0\n\\item 0\n\\item 1\n\\item 0\n\\item 0\n\\item 0\n\\item 0\n\\item 0\n\\item 0\n\\item 0\n\\item 0\n\\item 0\n\\item 0\n\\item 0\n\\item 0\n\\item 0\n\\item 0\n\\item 0\n\\item 1\n\\item 0\n\\item 0\n\\item 0\n\\item 0\n\\item 0\n\\item 0\n\\item 0\n\\item 0\n\\item 0\n\\item 0\n\\item 0\n\\item 0\n\\item 0\n\\item 0\n\\item 0\n\\item 0\n\\item 0\n\\item 0\n\\item 0\n\\item 0\n\\item 0\n\\item 0\n\\item 0\n\\item 0\n\\item 0\n\\item 0\n\\item 1\n\\item 0\n\\item 0\n\\item 0\n\\item 0\n\\item 0\n\\item 1\n\\item 0\n\\item 0\n\\item 0\n\\item 0\n\\item 0\n\\item 0\n\\item 0\n\\item 0\n\\item 0\n\\item 1\n\\item 0\n\\item 0\n\\item 0\n\\item 0\n\\item 0\n\\item 0\n\\item 0\n\\item 0\n\\item 0\n\\item 0\n\\item 1\n\\item 0\n\\item 0\n\\item 0\n\\item 0\n\\item 0\n\\item 0\n\\item 0\n\\item 0\n\\item 0\n\\item 0\n\\item 0\n\\item 0\n\\item 0\n\\item 0\n\\item 0\n\\item 1\n\\item 0\n\\item 0\n\\item 0\n\\item 0\n\\item 0\n\\item 0\n\\item 0\n\\item 0\n\\end{enumerate*}\n",
            "text/plain": [
              "  [1] 0 0 0 0 0 0 0 0 0 0 0 0 0 0 0 0 0 0 0 1 0 0 0 0 0 0 0 0 0 0 0 0 0 0 0 1 0\n",
              " [38] 0 0 0 0 0 0 0 0 0 0 0 0 0 0 0 0 0 0 0 0 0 0 0 0 0 1 0 0 0 0 0 1 0 0 0 0 0\n",
              " [75] 0 0 0 0 1 0 0 0 0 0 0 0 0 0 0 1 0 0 0 0 0 0 0 0 0 0 0 0 0 0 0 1 0 0 0 0 0\n",
              "[112] 0 0 0"
            ]
          },
          "metadata": {}
        },
        {
          "output_type": "display_data",
          "data": {
            "text/html": [
              "<style>\n",
              ".list-inline {list-style: none; margin:0; padding: 0}\n",
              ".list-inline>li {display: inline-block}\n",
              ".list-inline>li:not(:last-child)::after {content: \"\\00b7\"; padding: 0 .5ex}\n",
              "</style>\n",
              "<ol class=list-inline><li>0</li><li>0</li><li>0</li><li>0</li><li>0</li><li>0</li><li>0</li><li>0</li><li>0</li><li>0</li><li>0</li><li>0</li><li>0</li><li>0</li><li>0</li><li>1</li><li>0</li><li>0</li><li>0</li><li>0</li><li>0</li><li>0</li><li>0</li><li>0</li><li>0</li><li>0</li><li>0</li><li>0</li><li>0</li><li>0</li><li>0</li><li>1</li><li>0</li><li>1</li><li>0</li><li>0</li><li>0</li><li>0</li><li>0</li><li>0</li><li>0</li><li>0</li><li>0</li><li>0</li><li>0</li><li>0</li><li>0</li><li>0</li><li>0</li><li>0</li><li>0</li><li>1</li><li>0</li><li>0</li><li>1</li><li>1</li><li>0</li><li>0</li></ol>\n"
            ],
            "text/markdown": "1. 0\n2. 0\n3. 0\n4. 0\n5. 0\n6. 0\n7. 0\n8. 0\n9. 0\n10. 0\n11. 0\n12. 0\n13. 0\n14. 0\n15. 0\n16. 1\n17. 0\n18. 0\n19. 0\n20. 0\n21. 0\n22. 0\n23. 0\n24. 0\n25. 0\n26. 0\n27. 0\n28. 0\n29. 0\n30. 0\n31. 0\n32. 1\n33. 0\n34. 1\n35. 0\n36. 0\n37. 0\n38. 0\n39. 0\n40. 0\n41. 0\n42. 0\n43. 0\n44. 0\n45. 0\n46. 0\n47. 0\n48. 0\n49. 0\n50. 0\n51. 0\n52. 1\n53. 0\n54. 0\n55. 1\n56. 1\n57. 0\n58. 0\n\n\n",
            "text/latex": "\\begin{enumerate*}\n\\item 0\n\\item 0\n\\item 0\n\\item 0\n\\item 0\n\\item 0\n\\item 0\n\\item 0\n\\item 0\n\\item 0\n\\item 0\n\\item 0\n\\item 0\n\\item 0\n\\item 0\n\\item 1\n\\item 0\n\\item 0\n\\item 0\n\\item 0\n\\item 0\n\\item 0\n\\item 0\n\\item 0\n\\item 0\n\\item 0\n\\item 0\n\\item 0\n\\item 0\n\\item 0\n\\item 0\n\\item 1\n\\item 0\n\\item 1\n\\item 0\n\\item 0\n\\item 0\n\\item 0\n\\item 0\n\\item 0\n\\item 0\n\\item 0\n\\item 0\n\\item 0\n\\item 0\n\\item 0\n\\item 0\n\\item 0\n\\item 0\n\\item 0\n\\item 0\n\\item 1\n\\item 0\n\\item 0\n\\item 1\n\\item 1\n\\item 0\n\\item 0\n\\end{enumerate*}\n",
            "text/plain": [
              " [1] 0 0 0 0 0 0 0 0 0 0 0 0 0 0 0 1 0 0 0 0 0 0 0 0 0 0 0 0 0 0 0 1 0 1 0 0 0 0\n",
              "[39] 0 0 0 0 0 0 0 0 0 0 0 0 0 1 0 0 1 1 0 0"
            ]
          },
          "metadata": {}
        },
        {
          "output_type": "display_data",
          "data": {
            "text/html": [
              "<style>\n",
              ".list-inline {list-style: none; margin:0; padding: 0}\n",
              ".list-inline>li {display: inline-block}\n",
              ".list-inline>li:not(:last-child)::after {content: \"\\00b7\"; padding: 0 .5ex}\n",
              "</style>\n",
              "<ol class=list-inline><li>0</li><li>0</li><li>0</li><li>0</li><li>1</li><li>0</li><li>0</li><li>0</li><li>0</li><li>0</li><li>0</li><li>0</li><li>0</li><li>0</li><li>0</li><li>0</li><li>0</li><li>0</li><li>0</li><li>1</li><li>0</li><li>0</li><li>0</li><li>0</li><li>0</li><li>0</li><li>0</li><li>0</li><li>0</li><li>1</li><li>0</li><li>0</li><li>0</li><li>0</li><li>0</li><li>1</li><li>0</li><li>0</li><li>0</li><li>0</li><li>0</li><li>0</li><li>0</li><li>0</li><li>0</li><li>0</li><li>0</li><li>0</li><li>0</li><li>0</li><li>0</li><li>0</li><li>0</li><li>0</li><li>0</li><li>0</li><li>0</li><li>0</li><li>0</li><li>0</li><li>0</li><li>0</li><li>1</li><li>1</li><li>0</li><li>0</li><li>0</li><li>0</li><li>1</li><li>1</li><li>0</li><li>1</li><li>0</li><li>0</li><li>0</li><li>1</li><li>0</li><li>0</li><li>1</li><li>0</li><li>0</li><li>0</li><li>0</li><li>0</li><li>1</li><li>0</li><li>1</li><li>0</li><li>0</li><li>1</li><li>0</li><li>0</li><li>0</li><li>1</li><li>0</li><li>0</li><li>0</li><li>0</li><li>0</li><li>0</li><li>0</li><li>0</li><li>0</li><li>0</li><li>0</li><li>1</li><li>0</li><li>0</li><li>0</li><li>0</li><li>0</li><li>0</li><li>0</li><li>1</li></ol>\n"
            ],
            "text/markdown": "1. 0\n2. 0\n3. 0\n4. 0\n5. 1\n6. 0\n7. 0\n8. 0\n9. 0\n10. 0\n11. 0\n12. 0\n13. 0\n14. 0\n15. 0\n16. 0\n17. 0\n18. 0\n19. 0\n20. 1\n21. 0\n22. 0\n23. 0\n24. 0\n25. 0\n26. 0\n27. 0\n28. 0\n29. 0\n30. 1\n31. 0\n32. 0\n33. 0\n34. 0\n35. 0\n36. 1\n37. 0\n38. 0\n39. 0\n40. 0\n41. 0\n42. 0\n43. 0\n44. 0\n45. 0\n46. 0\n47. 0\n48. 0\n49. 0\n50. 0\n51. 0\n52. 0\n53. 0\n54. 0\n55. 0\n56. 0\n57. 0\n58. 0\n59. 0\n60. 0\n61. 0\n62. 0\n63. 1\n64. 1\n65. 0\n66. 0\n67. 0\n68. 0\n69. 1\n70. 1\n71. 0\n72. 1\n73. 0\n74. 0\n75. 0\n76. 1\n77. 0\n78. 0\n79. 1\n80. 0\n81. 0\n82. 0\n83. 0\n84. 0\n85. 1\n86. 0\n87. 1\n88. 0\n89. 0\n90. 1\n91. 0\n92. 0\n93. 0\n94. 1\n95. 0\n96. 0\n97. 0\n98. 0\n99. 0\n100. 0\n101. 0\n102. 0\n103. 0\n104. 0\n105. 0\n106. 1\n107. 0\n108. 0\n109. 0\n110. 0\n111. 0\n112. 0\n113. 0\n114. 1\n\n\n",
            "text/latex": "\\begin{enumerate*}\n\\item 0\n\\item 0\n\\item 0\n\\item 0\n\\item 1\n\\item 0\n\\item 0\n\\item 0\n\\item 0\n\\item 0\n\\item 0\n\\item 0\n\\item 0\n\\item 0\n\\item 0\n\\item 0\n\\item 0\n\\item 0\n\\item 0\n\\item 1\n\\item 0\n\\item 0\n\\item 0\n\\item 0\n\\item 0\n\\item 0\n\\item 0\n\\item 0\n\\item 0\n\\item 1\n\\item 0\n\\item 0\n\\item 0\n\\item 0\n\\item 0\n\\item 1\n\\item 0\n\\item 0\n\\item 0\n\\item 0\n\\item 0\n\\item 0\n\\item 0\n\\item 0\n\\item 0\n\\item 0\n\\item 0\n\\item 0\n\\item 0\n\\item 0\n\\item 0\n\\item 0\n\\item 0\n\\item 0\n\\item 0\n\\item 0\n\\item 0\n\\item 0\n\\item 0\n\\item 0\n\\item 0\n\\item 0\n\\item 1\n\\item 1\n\\item 0\n\\item 0\n\\item 0\n\\item 0\n\\item 1\n\\item 1\n\\item 0\n\\item 1\n\\item 0\n\\item 0\n\\item 0\n\\item 1\n\\item 0\n\\item 0\n\\item 1\n\\item 0\n\\item 0\n\\item 0\n\\item 0\n\\item 0\n\\item 1\n\\item 0\n\\item 1\n\\item 0\n\\item 0\n\\item 1\n\\item 0\n\\item 0\n\\item 0\n\\item 1\n\\item 0\n\\item 0\n\\item 0\n\\item 0\n\\item 0\n\\item 0\n\\item 0\n\\item 0\n\\item 0\n\\item 0\n\\item 0\n\\item 1\n\\item 0\n\\item 0\n\\item 0\n\\item 0\n\\item 0\n\\item 0\n\\item 0\n\\item 1\n\\end{enumerate*}\n",
            "text/plain": [
              "  [1] 0 0 0 0 1 0 0 0 0 0 0 0 0 0 0 0 0 0 0 1 0 0 0 0 0 0 0 0 0 1 0 0 0 0 0 1 0\n",
              " [38] 0 0 0 0 0 0 0 0 0 0 0 0 0 0 0 0 0 0 0 0 0 0 0 0 0 1 1 0 0 0 0 1 1 0 1 0 0\n",
              " [75] 0 1 0 0 1 0 0 0 0 0 1 0 1 0 0 1 0 0 0 1 0 0 0 0 0 0 0 0 0 0 0 1 0 0 0 0 0\n",
              "[112] 0 0 1"
            ]
          },
          "metadata": {}
        },
        {
          "output_type": "display_data",
          "data": {
            "text/html": [
              "<style>\n",
              ".dl-inline {width: auto; margin:0; padding: 0}\n",
              ".dl-inline>dt, .dl-inline>dd {float: none; width: auto; display: inline-block}\n",
              ".dl-inline>dt::after {content: \":\\0020\"; padding-right: .5ex}\n",
              ".dl-inline>dt:not(:first-of-type) {padding-left: .5ex}\n",
              "</style><dl class=dl-inline><dt>524</dt><dd>0</dd><dt>437</dt><dd>0</dd><dt>481</dt><dd>0</dd><dt>506</dt><dd>0</dd><dt>397</dt><dd>0</dd><dt>532</dt><dd>0</dd><dt>395</dt><dd>0</dd><dt>553</dt><dd>0</dd><dt>411</dt><dd>0</dd><dt>362</dt><dd>0</dd><dt>555</dt><dd>0</dd><dt>519</dt><dd>0</dd><dt>495</dt><dd>0</dd><dt>435</dt><dd>0</dd><dt>372</dt><dd>0</dd><dt>426</dt><dd>0</dd><dt>509</dt><dd>1</dd><dt>496</dt><dd>0</dd><dt>497</dt><dd>1</dd><dt>522</dt><dd>1</dd><dt>487</dt><dd>0</dd><dt>376</dt><dd>0</dd><dt>449</dt><dd>1</dd><dt>427</dt><dd>0</dd><dt>556</dt><dd>0</dd><dt>444</dt><dd>0</dd><dt>559</dt><dd>0</dd><dt>552</dt><dd>0</dd><dt>474</dt><dd>1</dd><dt>473</dt><dd>1</dd><dt>365</dt><dd>0</dd><dt>516</dt><dd>0</dd><dt>498</dt><dd>0</dd><dt>425</dt><dd>0</dd><dt>412</dt><dd>0</dd><dt>534</dt><dd>1</dd><dt>468</dt><dd>0</dd><dt>467</dt><dd>1</dd><dt>399</dt><dd>0</dd><dt>383</dt><dd>0</dd><dt>459</dt><dd>0</dd><dt>460</dt><dd>0</dd><dt>521</dt><dd>0</dd><dt>361</dt><dd>0</dd><dt>400</dt><dd>0</dd><dt>548</dt><dd>0</dd><dt>557</dt><dd>0</dd><dt>539</dt><dd>0</dd><dt>440</dt><dd>0</dd><dt>438</dt><dd>0</dd><dt>560</dt><dd>0</dd><dt>379</dt><dd>0</dd><dt>458</dt><dd>0</dd><dt>540</dt><dd>0</dd><dt>561</dt><dd>0</dd><dt>478</dt><dd>0</dd><dt>465</dt><dd>0</dd><dt>423</dt><dd>0</dd><dt>432</dt><dd>0</dd><dt>526</dt><dd>0</dd><dt>421</dt><dd>0</dd><dt>430</dt><dd>0</dd><dt>568</dt><dd>1</dd><dt>441</dt><dd>0</dd><dt>463</dt><dd>0</dd><dt>406</dt><dd>0</dd><dt>448</dt><dd>0</dd><dt>494</dt><dd>0</dd><dt>564</dt><dd>1</dd><dt>477</dt><dd>0</dd><dt>396</dt><dd>0</dd><dt>424</dt><dd>0</dd><dt>551</dt><dd>0</dd><dt>368</dt><dd>0</dd><dt>454</dt><dd>0</dd><dt>407</dt><dd>0</dd><dt>429</dt><dd>0</dd><dt>544</dt><dd>0</dd><dt>563</dt><dd>1</dd><dt>391</dt><dd>0</dd><dt>388</dt><dd>0</dd><dt>529</dt><dd>0</dd><dt>514</dt><dd>0</dd><dt>486</dt><dd>0</dd><dt>538</dt><dd>0</dd><dt>456</dt><dd>0</dd><dt>470</dt><dd>0</dd><dt>404</dt><dd>0</dd><dt>377</dt><dd>0</dd><dt>537</dt><dd>1</dd><dt>520</dt><dd>0</dd><dt>485</dt><dd>0</dd><dt>507</dt><dd>0</dd><dt>527</dt><dd>0</dd><dt>503</dt><dd>0</dd><dt>545</dt><dd>0</dd><dt>417</dt><dd>0</dd><dt>501</dt><dd>0</dd><dt>402</dt><dd>0</dd><dt>541</dt><dd>0</dd><dt>428</dt><dd>0</dd><dt>375</dt><dd>0</dd><dt>546</dt><dd>0</dd><dt>385</dt><dd>0</dd><dt>535</dt><dd>0</dd><dt>567</dt><dd>1</dd><dt>525</dt><dd>0</dd><dt>505</dt><dd>0</dd><dt>547</dt><dd>0</dd><dt>484</dt><dd>0</dd><dt>464</dt><dd>0</dd><dt>455</dt><dd>0</dd><dt>384</dt><dd>0</dd><dt>492</dt><dd>1</dd></dl>\n"
            ],
            "text/markdown": "524\n:   0437\n:   0481\n:   0506\n:   0397\n:   0532\n:   0395\n:   0553\n:   0411\n:   0362\n:   0555\n:   0519\n:   0495\n:   0435\n:   0372\n:   0426\n:   0509\n:   1496\n:   0497\n:   1522\n:   1487\n:   0376\n:   0449\n:   1427\n:   0556\n:   0444\n:   0559\n:   0552\n:   0474\n:   1473\n:   1365\n:   0516\n:   0498\n:   0425\n:   0412\n:   0534\n:   1468\n:   0467\n:   1399\n:   0383\n:   0459\n:   0460\n:   0521\n:   0361\n:   0400\n:   0548\n:   0557\n:   0539\n:   0440\n:   0438\n:   0560\n:   0379\n:   0458\n:   0540\n:   0561\n:   0478\n:   0465\n:   0423\n:   0432\n:   0526\n:   0421\n:   0430\n:   0568\n:   1441\n:   0463\n:   0406\n:   0448\n:   0494\n:   0564\n:   1477\n:   0396\n:   0424\n:   0551\n:   0368\n:   0454\n:   0407\n:   0429\n:   0544\n:   0563\n:   1391\n:   0388\n:   0529\n:   0514\n:   0486\n:   0538\n:   0456\n:   0470\n:   0404\n:   0377\n:   0537\n:   1520\n:   0485\n:   0507\n:   0527\n:   0503\n:   0545\n:   0417\n:   0501\n:   0402\n:   0541\n:   0428\n:   0375\n:   0546\n:   0385\n:   0535\n:   0567\n:   1525\n:   0505\n:   0547\n:   0484\n:   0464\n:   0455\n:   0384\n:   0492\n:   1\n\n",
            "text/latex": "\\begin{description*}\n\\item[524] 0\n\\item[437] 0\n\\item[481] 0\n\\item[506] 0\n\\item[397] 0\n\\item[532] 0\n\\item[395] 0\n\\item[553] 0\n\\item[411] 0\n\\item[362] 0\n\\item[555] 0\n\\item[519] 0\n\\item[495] 0\n\\item[435] 0\n\\item[372] 0\n\\item[426] 0\n\\item[509] 1\n\\item[496] 0\n\\item[497] 1\n\\item[522] 1\n\\item[487] 0\n\\item[376] 0\n\\item[449] 1\n\\item[427] 0\n\\item[556] 0\n\\item[444] 0\n\\item[559] 0\n\\item[552] 0\n\\item[474] 1\n\\item[473] 1\n\\item[365] 0\n\\item[516] 0\n\\item[498] 0\n\\item[425] 0\n\\item[412] 0\n\\item[534] 1\n\\item[468] 0\n\\item[467] 1\n\\item[399] 0\n\\item[383] 0\n\\item[459] 0\n\\item[460] 0\n\\item[521] 0\n\\item[361] 0\n\\item[400] 0\n\\item[548] 0\n\\item[557] 0\n\\item[539] 0\n\\item[440] 0\n\\item[438] 0\n\\item[560] 0\n\\item[379] 0\n\\item[458] 0\n\\item[540] 0\n\\item[561] 0\n\\item[478] 0\n\\item[465] 0\n\\item[423] 0\n\\item[432] 0\n\\item[526] 0\n\\item[421] 0\n\\item[430] 0\n\\item[568] 1\n\\item[441] 0\n\\item[463] 0\n\\item[406] 0\n\\item[448] 0\n\\item[494] 0\n\\item[564] 1\n\\item[477] 0\n\\item[396] 0\n\\item[424] 0\n\\item[551] 0\n\\item[368] 0\n\\item[454] 0\n\\item[407] 0\n\\item[429] 0\n\\item[544] 0\n\\item[563] 1\n\\item[391] 0\n\\item[388] 0\n\\item[529] 0\n\\item[514] 0\n\\item[486] 0\n\\item[538] 0\n\\item[456] 0\n\\item[470] 0\n\\item[404] 0\n\\item[377] 0\n\\item[537] 1\n\\item[520] 0\n\\item[485] 0\n\\item[507] 0\n\\item[527] 0\n\\item[503] 0\n\\item[545] 0\n\\item[417] 0\n\\item[501] 0\n\\item[402] 0\n\\item[541] 0\n\\item[428] 0\n\\item[375] 0\n\\item[546] 0\n\\item[385] 0\n\\item[535] 0\n\\item[567] 1\n\\item[525] 0\n\\item[505] 0\n\\item[547] 0\n\\item[484] 0\n\\item[464] 0\n\\item[455] 0\n\\item[384] 0\n\\item[492] 1\n\\end{description*}\n",
            "text/plain": [
              "524 437 481 506 397 532 395 553 411 362 555 519 495 435 372 426 509 496 497 522 \n",
              "  0   0   0   0   0   0   0   0   0   0   0   0   0   0   0   0   1   0   1   1 \n",
              "487 376 449 427 556 444 559 552 474 473 365 516 498 425 412 534 468 467 399 383 \n",
              "  0   0   1   0   0   0   0   0   1   1   0   0   0   0   0   1   0   1   0   0 \n",
              "459 460 521 361 400 548 557 539 440 438 560 379 458 540 561 478 465 423 432 526 \n",
              "  0   0   0   0   0   0   0   0   0   0   0   0   0   0   0   0   0   0   0   0 \n",
              "421 430 568 441 463 406 448 494 564 477 396 424 551 368 454 407 429 544 563 391 \n",
              "  0   0   1   0   0   0   0   0   1   0   0   0   0   0   0   0   0   0   1   0 \n",
              "388 529 514 486 538 456 470 404 377 537 520 485 507 527 503 545 417 501 402 541 \n",
              "  0   0   0   0   0   0   0   0   0   1   0   0   0   0   0   0   0   0   0   0 \n",
              "428 375 546 385 535 567 525 505 547 484 464 455 384 492 \n",
              "  0   0   0   0   0   1   0   0   0   0   0   0   0   1 "
            ]
          },
          "metadata": {}
        },
        {
          "output_type": "display_data",
          "data": {
            "text/html": [
              "<style>\n",
              ".list-inline {list-style: none; margin:0; padding: 0}\n",
              ".list-inline>li {display: inline-block}\n",
              ".list-inline>li:not(:last-child)::after {content: \"\\00b7\"; padding: 0 .5ex}\n",
              "</style>\n",
              "<ol class=list-inline><li>0</li><li>0</li><li>0</li><li>0</li><li>0</li><li>0</li><li>0</li><li>0</li><li>0</li><li>0</li><li>0</li><li>0</li><li>0</li><li>0</li><li>0</li><li>0</li><li>0</li><li>0</li><li>0</li><li>1</li><li>0</li><li>0</li><li>1</li><li>0</li><li>0</li><li>0</li><li>0</li><li>0</li><li>0</li><li>0</li><li>0</li><li>0</li><li>0</li><li>0</li><li>0</li><li>1</li><li>0</li><li>1</li><li>0</li><li>0</li><li>0</li><li>0</li><li>0</li><li>0</li><li>0</li><li>0</li><li>0</li><li>0</li><li>0</li><li>0</li><li>0</li><li>0</li><li>0</li><li>0</li><li>0</li><li>0</li><li>0</li><li>0</li><li>0</li><li>0</li><li>0</li><li>0</li><li>1</li><li>0</li><li>0</li><li>0</li><li>0</li><li>0</li><li>1</li><li>1</li><li>0</li><li>0</li><li>0</li><li>0</li><li>0</li><li>0</li><li>0</li><li>0</li><li>1</li><li>0</li><li>0</li><li>0</li><li>0</li><li>0</li><li>0</li><li>1</li><li>0</li><li>0</li><li>0</li><li>1</li><li>0</li><li>0</li><li>0</li><li>0</li><li>0</li><li>0</li><li>0</li><li>0</li><li>0</li><li>0</li><li>0</li><li>0</li><li>0</li><li>0</li><li>0</li><li>1</li><li>0</li><li>0</li><li>0</li><li>0</li><li>0</li><li>0</li><li>0</li><li>1</li></ol>\n"
            ],
            "text/markdown": "1. 0\n2. 0\n3. 0\n4. 0\n5. 0\n6. 0\n7. 0\n8. 0\n9. 0\n10. 0\n11. 0\n12. 0\n13. 0\n14. 0\n15. 0\n16. 0\n17. 0\n18. 0\n19. 0\n20. 1\n21. 0\n22. 0\n23. 1\n24. 0\n25. 0\n26. 0\n27. 0\n28. 0\n29. 0\n30. 0\n31. 0\n32. 0\n33. 0\n34. 0\n35. 0\n36. 1\n37. 0\n38. 1\n39. 0\n40. 0\n41. 0\n42. 0\n43. 0\n44. 0\n45. 0\n46. 0\n47. 0\n48. 0\n49. 0\n50. 0\n51. 0\n52. 0\n53. 0\n54. 0\n55. 0\n56. 0\n57. 0\n58. 0\n59. 0\n60. 0\n61. 0\n62. 0\n63. 1\n64. 0\n65. 0\n66. 0\n67. 0\n68. 0\n69. 1\n70. 1\n71. 0\n72. 0\n73. 0\n74. 0\n75. 0\n76. 0\n77. 0\n78. 0\n79. 1\n80. 0\n81. 0\n82. 0\n83. 0\n84. 0\n85. 0\n86. 1\n87. 0\n88. 0\n89. 0\n90. 1\n91. 0\n92. 0\n93. 0\n94. 0\n95. 0\n96. 0\n97. 0\n98. 0\n99. 0\n100. 0\n101. 0\n102. 0\n103. 0\n104. 0\n105. 0\n106. 1\n107. 0\n108. 0\n109. 0\n110. 0\n111. 0\n112. 0\n113. 0\n114. 1\n\n\n",
            "text/latex": "\\begin{enumerate*}\n\\item 0\n\\item 0\n\\item 0\n\\item 0\n\\item 0\n\\item 0\n\\item 0\n\\item 0\n\\item 0\n\\item 0\n\\item 0\n\\item 0\n\\item 0\n\\item 0\n\\item 0\n\\item 0\n\\item 0\n\\item 0\n\\item 0\n\\item 1\n\\item 0\n\\item 0\n\\item 1\n\\item 0\n\\item 0\n\\item 0\n\\item 0\n\\item 0\n\\item 0\n\\item 0\n\\item 0\n\\item 0\n\\item 0\n\\item 0\n\\item 0\n\\item 1\n\\item 0\n\\item 1\n\\item 0\n\\item 0\n\\item 0\n\\item 0\n\\item 0\n\\item 0\n\\item 0\n\\item 0\n\\item 0\n\\item 0\n\\item 0\n\\item 0\n\\item 0\n\\item 0\n\\item 0\n\\item 0\n\\item 0\n\\item 0\n\\item 0\n\\item 0\n\\item 0\n\\item 0\n\\item 0\n\\item 0\n\\item 1\n\\item 0\n\\item 0\n\\item 0\n\\item 0\n\\item 0\n\\item 1\n\\item 1\n\\item 0\n\\item 0\n\\item 0\n\\item 0\n\\item 0\n\\item 0\n\\item 0\n\\item 0\n\\item 1\n\\item 0\n\\item 0\n\\item 0\n\\item 0\n\\item 0\n\\item 0\n\\item 1\n\\item 0\n\\item 0\n\\item 0\n\\item 1\n\\item 0\n\\item 0\n\\item 0\n\\item 0\n\\item 0\n\\item 0\n\\item 0\n\\item 0\n\\item 0\n\\item 0\n\\item 0\n\\item 0\n\\item 0\n\\item 0\n\\item 0\n\\item 1\n\\item 0\n\\item 0\n\\item 0\n\\item 0\n\\item 0\n\\item 0\n\\item 0\n\\item 1\n\\end{enumerate*}\n",
            "text/plain": [
              "  [1] 0 0 0 0 0 0 0 0 0 0 0 0 0 0 0 0 0 0 0 1 0 0 1 0 0 0 0 0 0 0 0 0 0 0 0 1 0\n",
              " [38] 1 0 0 0 0 0 0 0 0 0 0 0 0 0 0 0 0 0 0 0 0 0 0 0 0 1 0 0 0 0 0 1 1 0 0 0 0\n",
              " [75] 0 0 0 0 1 0 0 0 0 0 0 1 0 0 0 1 0 0 0 0 0 0 0 0 0 0 0 0 0 0 0 1 0 0 0 0 0\n",
              "[112] 0 0 1"
            ]
          },
          "metadata": {}
        }
      ]
    },
    {
      "cell_type": "code",
      "source": [
        "# calculate area under curve\n",
        "\n",
        "roc_dt <- roc(cv_ans, dtree_ans_pred , plot = TRUE)\n",
        "auc(roc_dt)"
      ],
      "metadata": {
        "colab": {
          "base_uri": "https://localhost:8080/",
          "height": 528
        },
        "id": "O9ZFSs0IkJPJ",
        "outputId": "f47226e8-c768-4d27-a10a-5937793162af"
      },
      "execution_count": 209,
      "outputs": [
        {
          "output_type": "stream",
          "name": "stderr",
          "text": [
            "Setting levels: control = 0, case = 1\n",
            "\n",
            "Setting direction: controls < cases\n",
            "\n"
          ]
        },
        {
          "output_type": "display_data",
          "data": {
            "text/html": [
              "0.953271028037383"
            ],
            "text/markdown": "0.953271028037383",
            "text/latex": "0.953271028037383",
            "text/plain": [
              "Area under the curve: 0.9533"
            ]
          },
          "metadata": {}
        },
        {
          "output_type": "display_data",
          "data": {
            "text/plain": [
              "plot without title"
            ],
            "image/png": "[encoded data removed]"
          },
          "metadata": {
            "image/png": {
              "width": 420,
              "height": 420
            }
          }
        }
      ]
    },
    {
      "cell_type": "code",
      "source": [
        "roc_svm <- roc(cv_ans, svmmodel_ans_pred, plot = TRUE)\n",
        "auc(roc_svm)"
      ],
      "metadata": {
        "id": "w6bL_gD-kreC",
        "colab": {
          "base_uri": "https://localhost:8080/",
          "height": 528
        },
        "outputId": "fae2290b-3f2f-48d3-82af-03b4e12748c0"
      },
      "execution_count": 210,
      "outputs": [
        {
          "output_type": "stream",
          "name": "stderr",
          "text": [
            "Setting levels: control = 0, case = 1\n",
            "\n",
            "Setting direction: controls < cases\n",
            "\n"
          ]
        },
        {
          "output_type": "display_data",
          "data": {
            "text/html": [
              "0.976635514018692"
            ],
            "text/markdown": "0.976635514018692",
            "text/latex": "0.976635514018692",
            "text/plain": [
              "Area under the curve: 0.9766"
            ]
          },
          "metadata": {}
        },
        {
          "output_type": "display_data",
          "data": {
            "text/plain": [
              "plot without title"
            ],
            "image/png": "[encoded data removed]"
          },
          "metadata": {
            "image/png": {
              "width": 420,
              "height": 420
            }
          }
        }
      ]
    },
    {
      "cell_type": "code",
      "source": [
        "roc_nn <- roc(cv_ans, nn_ans_pred, plot = TRUE)\n",
        "auc(roc_nn)"
      ],
      "metadata": {
        "colab": {
          "base_uri": "https://localhost:8080/",
          "height": 528
        },
        "id": "ZKfYBTjd_1Jn",
        "outputId": "9ba5f1e3-bd71-432d-8c7b-0efb4dabffe5"
      },
      "execution_count": 211,
      "outputs": [
        {
          "output_type": "stream",
          "name": "stderr",
          "text": [
            "Setting levels: control = 0, case = 1\n",
            "\n",
            "Setting direction: controls < cases\n",
            "\n"
          ]
        },
        {
          "output_type": "display_data",
          "data": {
            "text/html": [
              "0.967289719626168"
            ],
            "text/markdown": "0.967289719626168",
            "text/latex": "0.967289719626168",
            "text/plain": [
              "Area under the curve: 0.9673"
            ]
          },
          "metadata": {}
        },
        {
          "output_type": "display_data",
          "data": {
            "text/plain": [
              "plot without title"
            ],
            "image/png": "[encoded data removed]"
          },
          "metadata": {
            "image/png": {
              "width": 420,
              "height": 420
            }
          }
        }
      ]
    },
    {
      "cell_type": "code",
      "source": [
        "dt_test_pred\n",
        "svm_test_pred\n",
        "nn_test_pred"
      ],
      "metadata": {
        "id": "KvE9A84X_4pM"
      },
      "execution_count": null,
      "outputs": []
    },
    {
      "cell_type": "code",
      "source": [
        "dtree_test_ans_pred = ifelse(dt_test_pred == 'B',0,1)\n",
        "dtree_test_ans_pred\n",
        "\n",
        "nn_test_ans_pred = ifelse(nn_test_pred[,1]>nn_test_pred[,2],0,1)\n",
        "nn_test_ans_pred\n",
        "\n",
        "svmmodel_test_ans_pred = ifelse(svm_test_pred == 'B',0,1)\n",
        "svmmodel_test_ans_pred"
      ],
      "metadata": {
        "colab": {
          "base_uri": "https://localhost:8080/",
          "height": 173
        },
        "id": "-pnb3tgcArk8",
        "outputId": "108aa96a-b9f2-4ab2-f5d9-486d4f8bfce3"
      },
      "execution_count": 217,
      "outputs": [
        {
          "output_type": "display_data",
          "data": {
            "text/html": [
              "<style>\n",
              ".list-inline {list-style: none; margin:0; padding: 0}\n",
              ".list-inline>li {display: inline-block}\n",
              ".list-inline>li:not(:last-child)::after {content: \"\\00b7\"; padding: 0 .5ex}\n",
              "</style>\n",
              "<ol class=list-inline><li>1</li><li>0</li><li>0</li><li>0</li><li>1</li><li>0</li><li>0</li><li>0</li><li>0</li><li>0</li><li>0</li><li>0</li><li>0</li><li>0</li><li>1</li><li>1</li><li>0</li><li>0</li><li>0</li><li>0</li><li>0</li><li>0</li><li>0</li><li>0</li><li>0</li><li>0</li><li>0</li><li>1</li><li>0</li><li>0</li><li>0</li><li>1</li><li>0</li><li>1</li><li>0</li><li>0</li><li>0</li><li>0</li><li>0</li><li>0</li><li>0</li><li>0</li><li>0</li><li>0</li><li>0</li><li>0</li><li>0</li><li>0</li><li>0</li><li>0</li><li>0</li><li>1</li><li>0</li><li>0</li><li>1</li><li>1</li><li>0</li><li>0</li></ol>\n"
            ],
            "text/markdown": "1. 1\n2. 0\n3. 0\n4. 0\n5. 1\n6. 0\n7. 0\n8. 0\n9. 0\n10. 0\n11. 0\n12. 0\n13. 0\n14. 0\n15. 1\n16. 1\n17. 0\n18. 0\n19. 0\n20. 0\n21. 0\n22. 0\n23. 0\n24. 0\n25. 0\n26. 0\n27. 0\n28. 1\n29. 0\n30. 0\n31. 0\n32. 1\n33. 0\n34. 1\n35. 0\n36. 0\n37. 0\n38. 0\n39. 0\n40. 0\n41. 0\n42. 0\n43. 0\n44. 0\n45. 0\n46. 0\n47. 0\n48. 0\n49. 0\n50. 0\n51. 0\n52. 1\n53. 0\n54. 0\n55. 1\n56. 1\n57. 0\n58. 0\n\n\n",
            "text/latex": "\\begin{enumerate*}\n\\item 1\n\\item 0\n\\item 0\n\\item 0\n\\item 1\n\\item 0\n\\item 0\n\\item 0\n\\item 0\n\\item 0\n\\item 0\n\\item 0\n\\item 0\n\\item 0\n\\item 1\n\\item 1\n\\item 0\n\\item 0\n\\item 0\n\\item 0\n\\item 0\n\\item 0\n\\item 0\n\\item 0\n\\item 0\n\\item 0\n\\item 0\n\\item 1\n\\item 0\n\\item 0\n\\item 0\n\\item 1\n\\item 0\n\\item 1\n\\item 0\n\\item 0\n\\item 0\n\\item 0\n\\item 0\n\\item 0\n\\item 0\n\\item 0\n\\item 0\n\\item 0\n\\item 0\n\\item 0\n\\item 0\n\\item 0\n\\item 0\n\\item 0\n\\item 0\n\\item 1\n\\item 0\n\\item 0\n\\item 1\n\\item 1\n\\item 0\n\\item 0\n\\end{enumerate*}\n",
            "text/plain": [
              " [1] 1 0 0 0 1 0 0 0 0 0 0 0 0 0 1 1 0 0 0 0 0 0 0 0 0 0 0 1 0 0 0 1 0 1 0 0 0 0\n",
              "[39] 0 0 0 0 0 0 0 0 0 0 0 0 0 1 0 0 1 1 0 0"
            ]
          },
          "metadata": {}
        },
        {
          "output_type": "display_data",
          "data": {
            "text/html": [
              "<style>\n",
              ".dl-inline {width: auto; margin:0; padding: 0}\n",
              ".dl-inline>dt, .dl-inline>dd {float: none; width: auto; display: inline-block}\n",
              ".dl-inline>dt::after {content: \":\\0020\"; padding-right: .5ex}\n",
              ".dl-inline>dt:not(:first-of-type) {padding-left: .5ex}\n",
              "</style><dl class=dl-inline><dt>492</dt><dd>1</dd><dt>439</dt><dd>0</dd><dt>381</dt><dd>0</dd><dt>419</dt><dd>0</dd><dt>466</dt><dd>1</dd><dt>403</dt><dd>0</dd><dt>528</dt><dd>0</dd><dt>446</dt><dd>0</dd><dt>410</dt><dd>1</dd><dt>549</dt><dd>0</dd><dt>542</dt><dd>0</dd><dt>491</dt><dd>1</dd><dt>471</dt><dd>0</dd><dt>533</dt><dd>0</dd><dt>414</dt><dd>0</dd><dt>517</dt><dd>1</dd><dt>479</dt><dd>0</dd><dt>392</dt><dd>0</dd><dt>558</dt><dd>0</dd><dt>562</dt><dd>0</dd><dt>569</dt><dd>0</dd><dt>443</dt><dd>0</dd><dt>550</dt><dd>1</dd><dt>398</dt><dd>0</dd><dt>389</dt><dd>0</dd><dt>453</dt><dd>0</dd><dt>476</dt><dd>0</dd><dt>364</dt><dd>0</dd><dt>531</dt><dd>0</dd><dt>413</dt><dd>0</dd><dt>554</dt><dd>0</dd><dt>515</dt><dd>1</dd><dt>451</dt><dd>0</dd><dt>565</dt><dd>1</dd><dt>408</dt><dd>0</dd><dt>416</dt><dd>0</dd><dt>482</dt><dd>0</dd><dt>363</dt><dd>0</dd><dt>483</dt><dd>0</dd><dt>457</dt><dd>0</dd><dt>511</dt><dd>0</dd><dt>387</dt><dd>0</dd><dt>543</dt><dd>0</dd><dt>530</dt><dd>0</dd><dt>523</dt><dd>0</dd><dt>472</dt><dd>1</dd><dt>420</dt><dd>0</dd><dt>475</dt><dd>0</dd><dt>378</dt><dd>0</dd><dt>512</dt><dd>0</dd><dt>508</dt><dd>0</dd><dt>518</dt><dd>1</dd><dt>489</dt><dd>0</dd><dt>405</dt><dd>0</dd><dt>566</dt><dd>1</dd><dt>536</dt><dd>1</dd><dt>382</dt><dd>0</dd><dt>422</dt><dd>0</dd></dl>\n"
            ],
            "text/markdown": "492\n:   1439\n:   0381\n:   0419\n:   0466\n:   1403\n:   0528\n:   0446\n:   0410\n:   1549\n:   0542\n:   0491\n:   1471\n:   0533\n:   0414\n:   0517\n:   1479\n:   0392\n:   0558\n:   0562\n:   0569\n:   0443\n:   0550\n:   1398\n:   0389\n:   0453\n:   0476\n:   0364\n:   0531\n:   0413\n:   0554\n:   0515\n:   1451\n:   0565\n:   1408\n:   0416\n:   0482\n:   0363\n:   0483\n:   0457\n:   0511\n:   0387\n:   0543\n:   0530\n:   0523\n:   0472\n:   1420\n:   0475\n:   0378\n:   0512\n:   0508\n:   0518\n:   1489\n:   0405\n:   0566\n:   1536\n:   1382\n:   0422\n:   0\n\n",
            "text/latex": "\\begin{description*}\n\\item[492] 1\n\\item[439] 0\n\\item[381] 0\n\\item[419] 0\n\\item[466] 1\n\\item[403] 0\n\\item[528] 0\n\\item[446] 0\n\\item[410] 1\n\\item[549] 0\n\\item[542] 0\n\\item[491] 1\n\\item[471] 0\n\\item[533] 0\n\\item[414] 0\n\\item[517] 1\n\\item[479] 0\n\\item[392] 0\n\\item[558] 0\n\\item[562] 0\n\\item[569] 0\n\\item[443] 0\n\\item[550] 1\n\\item[398] 0\n\\item[389] 0\n\\item[453] 0\n\\item[476] 0\n\\item[364] 0\n\\item[531] 0\n\\item[413] 0\n\\item[554] 0\n\\item[515] 1\n\\item[451] 0\n\\item[565] 1\n\\item[408] 0\n\\item[416] 0\n\\item[482] 0\n\\item[363] 0\n\\item[483] 0\n\\item[457] 0\n\\item[511] 0\n\\item[387] 0\n\\item[543] 0\n\\item[530] 0\n\\item[523] 0\n\\item[472] 1\n\\item[420] 0\n\\item[475] 0\n\\item[378] 0\n\\item[512] 0\n\\item[508] 0\n\\item[518] 1\n\\item[489] 0\n\\item[405] 0\n\\item[566] 1\n\\item[536] 1\n\\item[382] 0\n\\item[422] 0\n\\end{description*}\n",
            "text/plain": [
              "492 439 381 419 466 403 528 446 410 549 542 491 471 533 414 517 479 392 558 562 \n",
              "  1   0   0   0   1   0   0   0   1   0   0   1   0   0   0   1   0   0   0   0 \n",
              "569 443 550 398 389 453 476 364 531 413 554 515 451 565 408 416 482 363 483 457 \n",
              "  0   0   1   0   0   0   0   0   0   0   0   1   0   1   0   0   0   0   0   0 \n",
              "511 387 543 530 523 472 420 475 378 512 508 518 489 405 566 536 382 422 \n",
              "  0   0   0   0   0   1   0   0   0   0   0   1   0   0   1   1   0   0 "
            ]
          },
          "metadata": {}
        },
        {
          "output_type": "display_data",
          "data": {
            "text/html": [
              "<style>\n",
              ".list-inline {list-style: none; margin:0; padding: 0}\n",
              ".list-inline>li {display: inline-block}\n",
              ".list-inline>li:not(:last-child)::after {content: \"\\00b7\"; padding: 0 .5ex}\n",
              "</style>\n",
              "<ol class=list-inline><li>1</li><li>0</li><li>0</li><li>0</li><li>1</li><li>0</li><li>0</li><li>0</li><li>0</li><li>0</li><li>1</li><li>0</li><li>0</li><li>0</li><li>1</li><li>1</li><li>0</li><li>0</li><li>0</li><li>0</li><li>0</li><li>0</li><li>0</li><li>0</li><li>0</li><li>0</li><li>0</li><li>0</li><li>0</li><li>0</li><li>0</li><li>1</li><li>0</li><li>1</li><li>0</li><li>0</li><li>0</li><li>0</li><li>0</li><li>1</li><li>0</li><li>0</li><li>1</li><li>0</li><li>0</li><li>0</li><li>0</li><li>0</li><li>0</li><li>0</li><li>0</li><li>1</li><li>0</li><li>0</li><li>1</li><li>1</li><li>0</li><li>0</li></ol>\n"
            ],
            "text/markdown": "1. 1\n2. 0\n3. 0\n4. 0\n5. 1\n6. 0\n7. 0\n8. 0\n9. 0\n10. 0\n11. 1\n12. 0\n13. 0\n14. 0\n15. 1\n16. 1\n17. 0\n18. 0\n19. 0\n20. 0\n21. 0\n22. 0\n23. 0\n24. 0\n25. 0\n26. 0\n27. 0\n28. 0\n29. 0\n30. 0\n31. 0\n32. 1\n33. 0\n34. 1\n35. 0\n36. 0\n37. 0\n38. 0\n39. 0\n40. 1\n41. 0\n42. 0\n43. 1\n44. 0\n45. 0\n46. 0\n47. 0\n48. 0\n49. 0\n50. 0\n51. 0\n52. 1\n53. 0\n54. 0\n55. 1\n56. 1\n57. 0\n58. 0\n\n\n",
            "text/latex": "\\begin{enumerate*}\n\\item 1\n\\item 0\n\\item 0\n\\item 0\n\\item 1\n\\item 0\n\\item 0\n\\item 0\n\\item 0\n\\item 0\n\\item 1\n\\item 0\n\\item 0\n\\item 0\n\\item 1\n\\item 1\n\\item 0\n\\item 0\n\\item 0\n\\item 0\n\\item 0\n\\item 0\n\\item 0\n\\item 0\n\\item 0\n\\item 0\n\\item 0\n\\item 0\n\\item 0\n\\item 0\n\\item 0\n\\item 1\n\\item 0\n\\item 1\n\\item 0\n\\item 0\n\\item 0\n\\item 0\n\\item 0\n\\item 1\n\\item 0\n\\item 0\n\\item 1\n\\item 0\n\\item 0\n\\item 0\n\\item 0\n\\item 0\n\\item 0\n\\item 0\n\\item 0\n\\item 1\n\\item 0\n\\item 0\n\\item 1\n\\item 1\n\\item 0\n\\item 0\n\\end{enumerate*}\n",
            "text/plain": [
              " [1] 1 0 0 0 1 0 0 0 0 0 1 0 0 0 1 1 0 0 0 0 0 0 0 0 0 0 0 0 0 0 0 1 0 1 0 0 0 0\n",
              "[39] 0 1 0 0 1 0 0 0 0 0 0 0 0 1 0 0 1 1 0 0"
            ]
          },
          "metadata": {}
        }
      ]
    },
    {
      "cell_type": "code",
      "source": [
        "# calculate area under curve\n",
        "\n",
        "roc_dt_test <- roc(test_ans, dtree_test_ans_pred , plot = TRUE)\n",
        "auc(roc_dt_test)"
      ],
      "metadata": {
        "colab": {
          "base_uri": "https://localhost:8080/",
          "height": 528
        },
        "id": "dJajYM63BKDh",
        "outputId": "80c0a70b-00c2-4e91-9190-111029151257"
      },
      "execution_count": 218,
      "outputs": [
        {
          "output_type": "stream",
          "name": "stderr",
          "text": [
            "Setting levels: control = 0, case = 1\n",
            "\n",
            "Setting direction: controls < cases\n",
            "\n"
          ]
        },
        {
          "output_type": "display_data",
          "data": {
            "text/html": [
              "0.961538461538462"
            ],
            "text/markdown": "0.961538461538462",
            "text/latex": "0.961538461538462",
            "text/plain": [
              "Area under the curve: 0.9615"
            ]
          },
          "metadata": {}
        },
        {
          "output_type": "display_data",
          "data": {
            "text/plain": [
              "plot without title"
            ],
            "image/png": "[encoded data removed]"
          },
          "metadata": {
            "image/png": {
              "width": 420,
              "height": 420
            }
          }
        }
      ]
    },
    {
      "cell_type": "code",
      "source": [
        "roc_svm_test <- roc(test_ans, svmmodel_test_ans_pred , plot = TRUE)\n",
        "auc(roc_svm_test)"
      ],
      "metadata": {
        "colab": {
          "base_uri": "https://localhost:8080/",
          "height": 528
        },
        "id": "IFzPOtIpBeei",
        "outputId": "38cfaef0-ef8f-4fbe-ea71-c97b93bbf366"
      },
      "execution_count": 220,
      "outputs": [
        {
          "output_type": "stream",
          "name": "stderr",
          "text": [
            "Setting levels: control = 0, case = 1\n",
            "\n",
            "Setting direction: controls < cases\n",
            "\n"
          ]
        },
        {
          "output_type": "display_data",
          "data": {
            "text/html": [
              "0.942307692307692"
            ],
            "text/markdown": "0.942307692307692",
            "text/latex": "0.942307692307692",
            "text/plain": [
              "Area under the curve: 0.9423"
            ]
          },
          "metadata": {}
        },
        {
          "output_type": "display_data",
          "data": {
            "text/plain": [
              "plot without title"
            ],
            "image/png": "[encoded data removed]"
          },
          "metadata": {
            "image/png": {
              "width": 420,
              "height": 420
            }
          }
        }
      ]
    },
    {
      "cell_type": "code",
      "source": [
        "roc_nn_test <- roc(test_ans, nn_test_ans_pred , plot = TRUE)\n",
        "auc(roc_nn_test)"
      ],
      "metadata": {
        "colab": {
          "base_uri": "https://localhost:8080/",
          "height": 528
        },
        "id": "Zwkkg_1KBpxH",
        "outputId": "dee1afa6-290a-4102-b003-42a4df5aec34"
      },
      "execution_count": 221,
      "outputs": [
        {
          "output_type": "stream",
          "name": "stderr",
          "text": [
            "Setting levels: control = 0, case = 1\n",
            "\n",
            "Setting direction: controls < cases\n",
            "\n"
          ]
        },
        {
          "output_type": "display_data",
          "data": {
            "text/html": [
              "0.942307692307692"
            ],
            "text/markdown": "0.942307692307692",
            "text/latex": "0.942307692307692",
            "text/plain": [
              "Area under the curve: 0.9423"
            ]
          },
          "metadata": {}
        },
        {
          "output_type": "display_data",
          "data": {
            "text/plain": [
              "plot without title"
            ],
            "image/png": "[encoded data removed]"
          },
          "metadata": {
            "image/png": {
              "width": 420,
              "height": 420
            }
          }
        }
      ]
    },
    {
      "cell_type": "code",
      "source": [],
      "metadata": {
        "id": "nxQpcQ1uB7CB"
      },
      "execution_count": null,
      "outputs": []
    }
  ]
}